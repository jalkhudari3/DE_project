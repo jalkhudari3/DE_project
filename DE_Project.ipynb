{
  "nbformat": 4,
  "nbformat_minor": 0,
  "metadata": {
    "colab": {
      "provenance": [],
      "include_colab_link": true
    },
    "kernelspec": {
      "name": "python3",
      "display_name": "Python 3"
    },
    "language_info": {
      "name": "python"
    }
  },
  "cells": [
    {
      "cell_type": "markdown",
      "metadata": {
        "id": "view-in-github",
        "colab_type": "text"
      },
      "source": [
        "<a href=\"https://colab.research.google.com/github/jalkhudari3/DE_project/blob/main/DE_Project.ipynb\" target=\"_parent\"><img src=\"https://colab.research.google.com/assets/colab-badge.svg\" alt=\"Open In Colab\"/></a>"
      ]
    },
    {
      "cell_type": "markdown",
      "source": [
        "# Project: Data Engineering Pipeline\n",
        "\n",
        "\n",
        "The dataset is about Healthcare"
      ],
      "metadata": {
        "id": "yFVxrF07f9tD"
      }
    },
    {
      "cell_type": "markdown",
      "source": [
        "**Project Member**\n",
        "- Jory Alkhudari - 444005065\n",
        "\n",
        "- Maya Tayeb - 444002353\n",
        "\n",
        "- Ghala Alqarni - 444000585"
      ],
      "metadata": {
        "id": "Xg-aBAZrgUu8"
      }
    },
    {
      "cell_type": "markdown",
      "source": [
        "# **Phase 1: Relational Database**"
      ],
      "metadata": {
        "id": "tUgkC0yvgrsp"
      }
    },
    {
      "cell_type": "markdown",
      "source": [
        " Import required libraries\n"
      ],
      "metadata": {
        "id": "EHxA11Jxg5Fc"
      }
    },
    {
      "cell_type": "code",
      "execution_count": null,
      "metadata": {
        "id": "ECOMuv65f7DF"
      },
      "outputs": [],
      "source": [
        "import sqlite3\n",
        "import pandas as pd\n"
      ]
    },
    {
      "cell_type": "markdown",
      "source": [
        "Load the healthcare dataset from GitHub link\n"
      ],
      "metadata": {
        "id": "9PURBCqcg8SN"
      }
    },
    {
      "cell_type": "code",
      "source": [
        "url = 'https://raw.githubusercontent.com/wallflower777/DE_project/main/healthcare_dataset.csv'\n",
        "healthcare_df = pd.read_csv(url)\n",
        "print(f\"Loaded {len(healthcare_df)} rows from the healthcare dataset.\")"
      ],
      "metadata": {
        "colab": {
          "base_uri": "https://localhost:8080/"
        },
        "id": "NltRoPV8g764",
        "outputId": "04162140-1350-499e-b877-3aef1fa4dc04"
      },
      "execution_count": null,
      "outputs": [
        {
          "output_type": "stream",
          "name": "stdout",
          "text": [
            "Loaded 55500 rows from the healthcare dataset.\n"
          ]
        }
      ]
    },
    {
      "cell_type": "markdown",
      "source": [
        "## 1.1 Normalize the schemas"
      ],
      "metadata": {
        "id": "dMSxezK9gzcS"
      }
    },
    {
      "cell_type": "code",
      "source": [
        "#clean up column names\n",
        "healthcare_df.columns = [col.strip().replace(' ', '_') for col in healthcare_df.columns]\n",
        "print(f\"Normalized columns: {healthcare_df.columns}\")"
      ],
      "metadata": {
        "id": "2JXI7rilyJme",
        "colab": {
          "base_uri": "https://localhost:8080/"
        },
        "outputId": "283de24c-3225-4409-b8d3-d8cec003d28e"
      },
      "execution_count": null,
      "outputs": [
        {
          "output_type": "stream",
          "name": "stdout",
          "text": [
            "Normalized columns: Index(['Name', 'Age', 'Gender', 'Blood_Type', 'Medical_Condition',\n",
            "       'Date_of_Admission', 'Doctor', 'Hospital', 'Insurance_Provider',\n",
            "       'Billing_Amount', 'Room_Number', 'Admission_Type', 'Discharge_Date',\n",
            "       'Medication', 'Test_Results'],\n",
            "      dtype='object')\n"
          ]
        }
      ]
    },
    {
      "cell_type": "markdown",
      "source": [
        "##1.3 Connect to SQLite and create tables"
      ],
      "metadata": {
        "id": "ylA0lOm_yOxg"
      }
    },
    {
      "cell_type": "code",
      "source": [
        "# Connect to SQLite database\n",
        "conn = sqlite3.connect(\"healthcare.db\")\n",
        "cursor = conn.cursor()\n",
        "\n",
        "# Create Patients table\n",
        "cursor.execute('''\n",
        "CREATE TABLE IF NOT EXISTS Patients (\n",
        "    patient_id INTEGER PRIMARY KEY AUTOINCREMENT,\n",
        "    name TEXT NOT NULL,\n",
        "    age INTEGER,\n",
        "    gender TEXT,\n",
        "    blood_type TEXT\n",
        ")\n",
        "''')\n",
        "\n",
        "# Create Doctors table\n",
        "cursor.execute('''\n",
        "CREATE TABLE IF NOT EXISTS Doctors (\n",
        "    doctor_id INTEGER PRIMARY KEY AUTOINCREMENT,\n",
        "    name TEXT NOT NULL UNIQUE\n",
        ")\n",
        "''')\n",
        "\n",
        "# Create Hospitals table\n",
        "cursor.execute('''\n",
        "CREATE TABLE IF NOT EXISTS Hospitals (\n",
        "    hospital_id INTEGER PRIMARY KEY AUTOINCREMENT,\n",
        "    name TEXT NOT NULL UNIQUE\n",
        ")\n",
        "''')\n",
        "\n",
        "# Create Insurance Providers table\n",
        "cursor.execute('''\n",
        "CREATE TABLE IF NOT EXISTS InsuranceProviders (\n",
        "    insurance_id INTEGER PRIMARY KEY AUTOINCREMENT,\n",
        "    name TEXT NOT NULL UNIQUE\n",
        ")\n",
        "''')\n",
        "\n",
        "# Create Admissions table (with foreign keys for normalization)\n",
        "cursor.execute('''\n",
        "CREATE TABLE IF NOT EXISTS Admissions (\n",
        "    admission_id INTEGER PRIMARY KEY AUTOINCREMENT,\n",
        "    patient_id INTEGER,\n",
        "    doctor_id INTEGER,\n",
        "    hospital_id INTEGER,\n",
        "    insurance_id INTEGER,\n",
        "    medical_condition TEXT,\n",
        "    date_of_admission DATE,\n",
        "    billing_amount REAL,\n",
        "    room_number INTEGER,\n",
        "    admission_type TEXT,\n",
        "    discharge_date DATE,\n",
        "    FOREIGN KEY (patient_id) REFERENCES Patients(patient_id),\n",
        "    FOREIGN KEY (doctor_id) REFERENCES Doctors(doctor_id),\n",
        "    FOREIGN KEY (hospital_id) REFERENCES Hospitals(hospital_id),\n",
        "    FOREIGN KEY (insurance_id) REFERENCES InsuranceProviders(insurance_id)\n",
        ")\n",
        "''')\n",
        "\n",
        "# Create Medications table (with foreign key for normalization)\n",
        "cursor.execute('''\n",
        "CREATE TABLE IF NOT EXISTS Medications (\n",
        "    medication_id INTEGER PRIMARY KEY AUTOINCREMENT,\n",
        "    patient_id INTEGER,\n",
        "    medication TEXT,\n",
        "    test_results TEXT,\n",
        "    FOREIGN KEY (patient_id) REFERENCES Patients(patient_id)\n",
        ")\n",
        "''')\n",
        "\n",
        "def show_table_schema(table_name):\n",
        "    print(f\"\\n Structure of table: {table_name}\")\n",
        "    cursor.execute(f\"PRAGMA table_info({table_name})\")\n",
        "    schema = cursor.fetchall()\n",
        "    df = pd.DataFrame(schema, columns=[\"Column ID\", \"Column Name\", \"Data Type\", \"Not Null\", \"Default\", \"Primary Key\"])\n",
        "    print(df)\n",
        "\n",
        "table_names = ['Patients', 'Doctors', 'Hospitals', 'InsuranceProviders', 'Admissions', 'Medications']\n",
        "for table in table_names:\n",
        "    show_table_schema(table)\n",
        "\n",
        "\n",
        "conn.commit()\n",
        "print(\"Tables created successfully with normalization.\")"
      ],
      "metadata": {
        "colab": {
          "base_uri": "https://localhost:8080/"
        },
        "id": "p7uLxi1qhVpW",
        "outputId": "0af98a74-eaca-4c05-98d3-77f3c537cfdd"
      },
      "execution_count": null,
      "outputs": [
        {
          "output_type": "stream",
          "name": "stdout",
          "text": [
            "\n",
            " Structure of table: Patients\n",
            "   Column ID Column Name Data Type  Not Null Default  Primary Key\n",
            "0          0  patient_id   INTEGER         0    None            1\n",
            "1          1        name      TEXT         1    None            0\n",
            "2          2         age   INTEGER         0    None            0\n",
            "3          3      gender      TEXT         0    None            0\n",
            "4          4  blood_type      TEXT         0    None            0\n",
            "\n",
            " Structure of table: Doctors\n",
            "   Column ID Column Name Data Type  Not Null Default  Primary Key\n",
            "0          0   doctor_id   INTEGER         0    None            1\n",
            "1          1        name      TEXT         1    None            0\n",
            "\n",
            " Structure of table: Hospitals\n",
            "   Column ID  Column Name Data Type  Not Null Default  Primary Key\n",
            "0          0  hospital_id   INTEGER         0    None            1\n",
            "1          1         name      TEXT         1    None            0\n",
            "\n",
            " Structure of table: InsuranceProviders\n",
            "   Column ID   Column Name Data Type  Not Null Default  Primary Key\n",
            "0          0  insurance_id   INTEGER         0    None            1\n",
            "1          1          name      TEXT         1    None            0\n",
            "\n",
            " Structure of table: Admissions\n",
            "    Column ID        Column Name Data Type  Not Null Default  Primary Key\n",
            "0           0       admission_id   INTEGER         0    None            1\n",
            "1           1         patient_id   INTEGER         0    None            0\n",
            "2           2          doctor_id   INTEGER         0    None            0\n",
            "3           3        hospital_id   INTEGER         0    None            0\n",
            "4           4       insurance_id   INTEGER         0    None            0\n",
            "5           5  medical_condition      TEXT         0    None            0\n",
            "6           6  date_of_admission      DATE         0    None            0\n",
            "7           7     billing_amount      REAL         0    None            0\n",
            "8           8        room_number   INTEGER         0    None            0\n",
            "9           9     admission_type      TEXT         0    None            0\n",
            "10         10     discharge_date      DATE         0    None            0\n",
            "\n",
            " Structure of table: Medications\n",
            "   Column ID    Column Name Data Type  Not Null Default  Primary Key\n",
            "0          0  medication_id   INTEGER         0    None            1\n",
            "1          1     patient_id   INTEGER         0    None            0\n",
            "2          2     medication      TEXT         0    None            0\n",
            "3          3   test_results      TEXT         0    None            0\n",
            "Tables created successfully with normalization.\n"
          ]
        }
      ]
    },
    {
      "cell_type": "markdown",
      "source": [
        "## 1.2 Insert sample data from the CSV file with normalization"
      ],
      "metadata": {
        "id": "J2em9P2Xh22E"
      }
    },
    {
      "cell_type": "code",
      "source": [
        "for index, row in healthcare_df.iterrows():\n",
        "    # Insert patient data\n",
        "    cursor.execute(\"INSERT INTO Patients (name, age, gender, blood_type) VALUES (?, ?, ?, ?)\",\n",
        "                   (row['Name'], row['Age'], row['Gender'], row['Blood_Type']))\n",
        "    patient_id = cursor.lastrowid\n",
        "\n",
        "    # Insert or ignore doctor data (unique names)\n",
        "    cursor.execute(\"INSERT OR IGNORE INTO Doctors (name) VALUES (?)\", (row['Doctor'],))\n",
        "    cursor.execute(\"SELECT doctor_id FROM Doctors WHERE name = ?\", (row['Doctor'],))\n",
        "    doctor_id = cursor.fetchone()[0]\n",
        "\n",
        "    # Insert or ignore hospital data (unique names)\n",
        "    cursor.execute(\"INSERT OR IGNORE INTO Hospitals (name) VALUES (?)\", (row['Hospital'],))\n",
        "    cursor.execute(\"SELECT hospital_id FROM Hospitals WHERE name = ?\", (row['Hospital'],))\n",
        "    hospital_id = cursor.fetchone()[0]\n",
        "\n",
        "    # Insert or ignore insurance provider data (unique names)\n",
        "    cursor.execute(\"INSERT OR IGNORE INTO InsuranceProviders (name) VALUES (?)\", (row['Insurance_Provider'],))\n",
        "    cursor.execute(\"SELECT insurance_id FROM InsuranceProviders WHERE name = ?\", (row['Insurance_Provider'],))\n",
        "    insurance_id = cursor.fetchone()[0]\n",
        "\n",
        "    # Insert admission data with normalized references\n",
        "    cursor.execute(\"INSERT INTO Admissions (patient_id, doctor_id, hospital_id, insurance_id, medical_condition, date_of_admission, billing_amount, room_number, admission_type, discharge_date) VALUES (?, ?, ?, ?, ?, ?, ?, ?, ?, ?)\",\n",
        "                   (patient_id, doctor_id, hospital_id, insurance_id, row['Medical_Condition'], row['Date_of_Admission'], row['Billing_Amount'], row['Room_Number'], row['Admission_Type'], row['Discharge_Date']))\n",
        "\n",
        "    # Insert medication data\n",
        "    cursor.execute(\"INSERT INTO Medications (patient_id, medication, test_results) VALUES (?, ?, ?)\",\n",
        "                   (patient_id, row['Medication'], row['Test_Results']))\n",
        "\n",
        "\n",
        "# ✅ دالة لعرض أول 5 صفوف من كل جدول\n",
        "def preview_table(name):\n",
        "    print(f\"\\n Top rows from {name}:\")\n",
        "    df = pd.read_sql_query(f\"SELECT * FROM {name} LIMIT 5\", conn)\n",
        "    print(df)\n",
        "\n",
        "# ✅ عرض البيانات من كل جدول\n",
        "tables = ['Patients', 'Doctors', 'Hospitals', 'InsuranceProviders', 'Admissions', 'Medications']\n",
        "for t in tables:\n",
        "    preview_table(t)\n",
        "\n",
        "conn.commit()\n",
        "print(\"\\nSample data inserted successfully.\")"
      ],
      "metadata": {
        "colab": {
          "base_uri": "https://localhost:8080/"
        },
        "id": "-7v9qJB-h_Pv",
        "outputId": "10e82bfe-1888-4f24-a3a8-45451fe94a5f"
      },
      "execution_count": null,
      "outputs": [
        {
          "output_type": "stream",
          "name": "stdout",
          "text": [
            "\n",
            " Top rows from Patients:\n",
            "   patient_id           name  age  gender blood_type\n",
            "0           1  Bobby JacksOn   30    Male         B-\n",
            "1           2   LesLie TErRy   62    Male         A+\n",
            "2           3    DaNnY sMitH   76  Female         A-\n",
            "3           4   andrEw waTtS   28  Female         O+\n",
            "4           5  adrIENNE bEll   43  Female        AB+\n",
            "\n",
            " Top rows from Doctors:\n",
            "   doctor_id              name\n",
            "0          1     Matthew Smith\n",
            "1          2   Samantha Davies\n",
            "2          3  Tiffany Mitchell\n",
            "3          4       Kevin Wells\n",
            "4          5    Kathleen Hanna\n",
            "\n",
            " Top rows from Hospitals:\n",
            "   hospital_id                        name\n",
            "0            1             Sons and Miller\n",
            "1            2                     Kim Inc\n",
            "2            3                    Cook PLC\n",
            "3            4  Hernandez Rogers and Vang,\n",
            "4            5                 White-White\n",
            "\n",
            " Top rows from InsuranceProviders:\n",
            "   insurance_id              name\n",
            "0             1        Blue Cross\n",
            "1             2          Medicare\n",
            "2             3             Aetna\n",
            "3             6  UnitedHealthcare\n",
            "4             8             Cigna\n",
            "\n",
            " Top rows from Admissions:\n",
            "   admission_id  patient_id  doctor_id  hospital_id  insurance_id  \\\n",
            "0             1           1          1            1             1   \n",
            "1             2           2          2            2             2   \n",
            "2             3           3          3            3             3   \n",
            "3             4           4          4            4             2   \n",
            "4             5           5          5            5             3   \n",
            "\n",
            "  medical_condition date_of_admission  billing_amount  room_number  \\\n",
            "0            Cancer        2024-01-31    18856.281306          328   \n",
            "1           Obesity        2019-08-20    33643.327287          265   \n",
            "2           Obesity        2022-09-22    27955.096079          205   \n",
            "3          Diabetes        2020-11-18    37909.782410          450   \n",
            "4            Cancer        2022-09-19    14238.317814          458   \n",
            "\n",
            "  admission_type discharge_date  \n",
            "0         Urgent     2024-02-02  \n",
            "1      Emergency     2019-08-26  \n",
            "2      Emergency     2022-10-07  \n",
            "3       Elective     2020-12-18  \n",
            "4         Urgent     2022-10-09  \n",
            "\n",
            " Top rows from Medications:\n",
            "   medication_id  patient_id   medication  test_results\n",
            "0              1           1  Paracetamol        Normal\n",
            "1              2           2    Ibuprofen  Inconclusive\n",
            "2              3           3      Aspirin        Normal\n",
            "3              4           4    Ibuprofen      Abnormal\n",
            "4              5           5   Penicillin      Abnormal\n",
            "\n",
            "Sample data inserted successfully.\n"
          ]
        }
      ]
    },
    {
      "cell_type": "markdown",
      "source": [
        "## Print tables before CRUD operations"
      ],
      "metadata": {
        "id": "cQeKEgrdoGFh"
      }
    },
    {
      "cell_type": "code",
      "source": [
        "print(pd.read_sql_query(\"SELECT * FROM Patients LIMIT 5\", conn))"
      ],
      "metadata": {
        "colab": {
          "base_uri": "https://localhost:8080/"
        },
        "id": "uCQxvCwPoGw8",
        "outputId": "47afec08-65a1-47e0-cd7b-ca43157de775"
      },
      "execution_count": null,
      "outputs": [
        {
          "output_type": "stream",
          "name": "stdout",
          "text": [
            "   patient_id           name  age  gender blood_type\n",
            "0           1  Bobby JacksOn   30    Male         B-\n",
            "1           2   LesLie TErRy   62    Male         A+\n",
            "2           3    DaNnY sMitH   76  Female         A-\n",
            "3           4   andrEw waTtS   28  Female         O+\n",
            "4           5  adrIENNE bEll   43  Female        AB+\n"
          ]
        }
      ]
    },
    {
      "cell_type": "markdown",
      "source": [
        "## 1.3 Implements CRUD Operations\n"
      ],
      "metadata": {
        "id": "ZmYgtnt3iMqD"
      }
    },
    {
      "cell_type": "markdown",
      "source": [
        "1.3.1 Update data"
      ],
      "metadata": {
        "id": "DDk3t0vgiWt9"
      }
    },
    {
      "cell_type": "code",
      "source": [
        "cursor.execute(\"UPDATE Patients SET age = age + 1 WHERE age < 30\")\n",
        "conn.commit()\n",
        "print(\" Patients under 30 years old have been aged by 1 year.\")\n"
      ],
      "metadata": {
        "colab": {
          "base_uri": "https://localhost:8080/"
        },
        "id": "akbOAcnQjIbZ",
        "outputId": "64bbae5a-44df-4ab1-dc4f-c3b3193092b0"
      },
      "execution_count": null,
      "outputs": [
        {
          "output_type": "stream",
          "name": "stdout",
          "text": [
            " Patients under 30 years old have been aged by 1 year.\n"
          ]
        }
      ]
    },
    {
      "cell_type": "markdown",
      "source": [
        "1.3.2 Delete data"
      ],
      "metadata": {
        "id": "ZFmEm_MXjMC4"
      }
    },
    {
      "cell_type": "code",
      "source": [
        "cursor.execute(\"DELETE FROM Patients WHERE age > 80\")\n",
        "conn.commit()\n",
        "print(\" Patients older than 80 years have been deleted.\")"
      ],
      "metadata": {
        "colab": {
          "base_uri": "https://localhost:8080/"
        },
        "id": "I9-HHbahjUA0",
        "outputId": "d66119e5-4d84-4a06-efab-279262df603e"
      },
      "execution_count": null,
      "outputs": [
        {
          "output_type": "stream",
          "name": "stdout",
          "text": [
            " Patients older than 80 years have been deleted.\n"
          ]
        }
      ]
    },
    {
      "cell_type": "markdown",
      "source": [
        "1.3.2 Read data"
      ],
      "metadata": {
        "id": "sbwT21O6oy0M"
      }
    },
    {
      "cell_type": "code",
      "source": [
        "print(\"\\n Patients Over 50 Years Old:\")\n",
        "cursor.execute(\"SELECT * FROM Patients WHERE age > 50 LIMIT 5\")\n",
        "print(cursor.fetchall())"
      ],
      "metadata": {
        "colab": {
          "base_uri": "https://localhost:8080/"
        },
        "id": "5CEBPlR7o5G0",
        "outputId": "dccdbdfb-7f74-4580-9709-6f3ccd86f195"
      },
      "execution_count": null,
      "outputs": [
        {
          "output_type": "stream",
          "name": "stdout",
          "text": [
            "\n",
            " Patients Over 50 Years Old:\n",
            "[(2, 'LesLie TErRy', 62, 'Male', 'A+'), (3, 'DaNnY sMitH', 76, 'Female', 'A-'), (10, 'ChRISTopher BerG', 58, 'Female', 'AB-'), (11, 'mIchElLe daniELs', 72, 'Male', 'O+'), (13, 'connOR HANsEn', 75, 'Female', 'A+')]\n"
          ]
        }
      ]
    },
    {
      "cell_type": "markdown",
      "source": [
        "## Print tables after CRUD operations\n"
      ],
      "metadata": {
        "id": "wMqeHr_-pBHu"
      }
    },
    {
      "cell_type": "code",
      "source": [
        "print(pd.read_sql_query(\"SELECT * FROM Patients LIMIT 5\", conn))"
      ],
      "metadata": {
        "colab": {
          "base_uri": "https://localhost:8080/"
        },
        "id": "THgS2DWTsEag",
        "outputId": "89f77036-e64b-4fa4-8287-15db0e4e5386"
      },
      "execution_count": null,
      "outputs": [
        {
          "output_type": "stream",
          "name": "stdout",
          "text": [
            "   patient_id           name  age  gender blood_type\n",
            "0           1  Bobby JacksOn   30    Male         B-\n",
            "1           2   LesLie TErRy   62    Male         A+\n",
            "2           3    DaNnY sMitH   76  Female         A-\n",
            "3           4   andrEw waTtS   29  Female         O+\n",
            "4           5  adrIENNE bEll   43  Female        AB+\n"
          ]
        }
      ]
    },
    {
      "cell_type": "markdown",
      "source": [
        "## 1.4 Apply indexing for performance optimization\n"
      ],
      "metadata": {
        "id": "6KOoxs3MiAkF"
      }
    },
    {
      "cell_type": "markdown",
      "source": [
        "1.4.1 Indexing"
      ],
      "metadata": {
        "id": "mPcGydl6quQI"
      }
    },
    {
      "cell_type": "code",
      "source": [
        "conn = sqlite3.connect(\"healthcare.db\")\n",
        "cursor = conn.cursor()\n",
        "\n",
        "print(\"Step 1: Creating index on Patients(Name) column...\")\n",
        "\n",
        "cursor.execute(\"CREATE INDEX IF NOT EXISTS idx_patient_name ON Patients (name)\")\n",
        "conn.commit()\n",
        "\n",
        "print(\"Index 'idx_patient_name' created (if not exists).\")\n"
      ],
      "metadata": {
        "id": "hj7LBq4Aq1_x",
        "colab": {
          "base_uri": "https://localhost:8080/"
        },
        "outputId": "c586f384-71ef-4511-c3a0-1236b32d758e"
      },
      "execution_count": null,
      "outputs": [
        {
          "output_type": "stream",
          "name": "stdout",
          "text": [
            "Step 1: Creating index on Patients(Name) column...\n",
            "Index 'idx_patient_name' created (if not exists).\n"
          ]
        }
      ]
    },
    {
      "cell_type": "markdown",
      "source": [
        "1.4.2. Query Optimization:"
      ],
      "metadata": {
        "id": "Ao4YXgVwq3Jr"
      }
    },
    {
      "cell_type": "code",
      "source": [
        "conn = sqlite3.connect(\"healthcare.db\")\n",
        "cursor = conn.cursor()\n",
        "\n",
        "\n",
        "print(\"\\nStep 2: Explain query plan for searching patient by name 'John Doe':\")\n",
        "\n",
        "cursor.execute(\"EXPLAIN QUERY PLAN SELECT * FROM Patients WHERE name = 'John Doe'\")\n",
        "query_plan = cursor.fetchall()\n",
        "\n",
        "# عرض خطة تنفيذ الاستعلام بشكل منسق\n",
        "for step in query_plan:\n",
        "    print(f\" - {step}\")\n",
        "\n",
        "conn.close()\n",
        "print(\"\\n Query plan displayed successfully.\")"
      ],
      "metadata": {
        "colab": {
          "base_uri": "https://localhost:8080/"
        },
        "id": "Ggz5h6OHiIOV",
        "outputId": "f168b6c3-bfb2-4675-c3c5-9caa4a540c68"
      },
      "execution_count": null,
      "outputs": [
        {
          "output_type": "stream",
          "name": "stdout",
          "text": [
            "\n",
            "Step 2: Explain query plan for searching patient by name 'John Doe':\n",
            " - (3, 0, 0, 'SEARCH Patients USING INDEX idx_patient_name (name=?)')\n",
            "\n",
            " Query plan displayed successfully.\n"
          ]
        }
      ]
    },
    {
      "cell_type": "markdown",
      "source": [
        "# **Phase 2: NoSQL Database (MongoDB)**\n"
      ],
      "metadata": {
        "id": "MC7iKNU8j4Vs"
      }
    },
    {
      "cell_type": "code",
      "source": [
        "!pip install tinydb\n"
      ],
      "metadata": {
        "colab": {
          "base_uri": "https://localhost:8080/"
        },
        "id": "B-51wz-9pkMs",
        "outputId": "37a75f02-1241-4271-e7c9-208a2b86a282"
      },
      "execution_count": null,
      "outputs": [
        {
          "output_type": "stream",
          "name": "stdout",
          "text": [
            "Collecting tinydb\n",
            "  Downloading tinydb-4.8.2-py3-none-any.whl.metadata (6.7 kB)\n",
            "Downloading tinydb-4.8.2-py3-none-any.whl (24 kB)\n",
            "Installing collected packages: tinydb\n",
            "Successfully installed tinydb-4.8.2\n"
          ]
        }
      ]
    },
    {
      "cell_type": "code",
      "source": [
        "from tinydb import TinyDB, Query"
      ],
      "metadata": {
        "id": "RZ51qRSNkM6V"
      },
      "execution_count": null,
      "outputs": []
    },
    {
      "cell_type": "markdown",
      "source": [
        "## 2.1 Transforming Data to Document Format"
      ],
      "metadata": {
        "id": "P0QUa2Snuku2"
      }
    },
    {
      "cell_type": "code",
      "source": [
        "tinydb = TinyDB(\"healthcare_nosql.json\")\n",
        "healthcare_json = healthcare_df.to_dict(orient=\"records\")\n",
        "tinydb.insert_multiple(healthcare_json)"
      ],
      "metadata": {
        "colab": {
          "base_uri": "https://localhost:8080/"
        },
        "id": "3bkmxXQwkQWD",
        "outputId": "277181d3-0467-4f33-8e2f-84dada195164"
      },
      "execution_count": null,
      "outputs": [
        {
          "output_type": "execute_result",
          "data": {
            "text/plain": [
              "[1,\n",
              " 2,\n",
              " 3,\n",
              " 4,\n",
              " 5,\n",
              " 6,\n",
              " 7,\n",
              " 8,\n",
              " 9,\n",
              " 10,\n",
              " 11,\n",
              " 12,\n",
              " 13,\n",
              " 14,\n",
              " 15,\n",
              " 16,\n",
              " 17,\n",
              " 18,\n",
              " 19,\n",
              " 20,\n",
              " 21,\n",
              " 22,\n",
              " 23,\n",
              " 24,\n",
              " 25,\n",
              " 26,\n",
              " 27,\n",
              " 28,\n",
              " 29,\n",
              " 30,\n",
              " 31,\n",
              " 32,\n",
              " 33,\n",
              " 34,\n",
              " 35,\n",
              " 36,\n",
              " 37,\n",
              " 38,\n",
              " 39,\n",
              " 40,\n",
              " 41,\n",
              " 42,\n",
              " 43,\n",
              " 44,\n",
              " 45,\n",
              " 46,\n",
              " 47,\n",
              " 48,\n",
              " 49,\n",
              " 50,\n",
              " 51,\n",
              " 52,\n",
              " 53,\n",
              " 54,\n",
              " 55,\n",
              " 56,\n",
              " 57,\n",
              " 58,\n",
              " 59,\n",
              " 60,\n",
              " 61,\n",
              " 62,\n",
              " 63,\n",
              " 64,\n",
              " 65,\n",
              " 66,\n",
              " 67,\n",
              " 68,\n",
              " 69,\n",
              " 70,\n",
              " 71,\n",
              " 72,\n",
              " 73,\n",
              " 74,\n",
              " 75,\n",
              " 76,\n",
              " 77,\n",
              " 78,\n",
              " 79,\n",
              " 80,\n",
              " 81,\n",
              " 82,\n",
              " 83,\n",
              " 84,\n",
              " 85,\n",
              " 86,\n",
              " 87,\n",
              " 88,\n",
              " 89,\n",
              " 90,\n",
              " 91,\n",
              " 92,\n",
              " 93,\n",
              " 94,\n",
              " 95,\n",
              " 96,\n",
              " 97,\n",
              " 98,\n",
              " 99,\n",
              " 100,\n",
              " 101,\n",
              " 102,\n",
              " 103,\n",
              " 104,\n",
              " 105,\n",
              " 106,\n",
              " 107,\n",
              " 108,\n",
              " 109,\n",
              " 110,\n",
              " 111,\n",
              " 112,\n",
              " 113,\n",
              " 114,\n",
              " 115,\n",
              " 116,\n",
              " 117,\n",
              " 118,\n",
              " 119,\n",
              " 120,\n",
              " 121,\n",
              " 122,\n",
              " 123,\n",
              " 124,\n",
              " 125,\n",
              " 126,\n",
              " 127,\n",
              " 128,\n",
              " 129,\n",
              " 130,\n",
              " 131,\n",
              " 132,\n",
              " 133,\n",
              " 134,\n",
              " 135,\n",
              " 136,\n",
              " 137,\n",
              " 138,\n",
              " 139,\n",
              " 140,\n",
              " 141,\n",
              " 142,\n",
              " 143,\n",
              " 144,\n",
              " 145,\n",
              " 146,\n",
              " 147,\n",
              " 148,\n",
              " 149,\n",
              " 150,\n",
              " 151,\n",
              " 152,\n",
              " 153,\n",
              " 154,\n",
              " 155,\n",
              " 156,\n",
              " 157,\n",
              " 158,\n",
              " 159,\n",
              " 160,\n",
              " 161,\n",
              " 162,\n",
              " 163,\n",
              " 164,\n",
              " 165,\n",
              " 166,\n",
              " 167,\n",
              " 168,\n",
              " 169,\n",
              " 170,\n",
              " 171,\n",
              " 172,\n",
              " 173,\n",
              " 174,\n",
              " 175,\n",
              " 176,\n",
              " 177,\n",
              " 178,\n",
              " 179,\n",
              " 180,\n",
              " 181,\n",
              " 182,\n",
              " 183,\n",
              " 184,\n",
              " 185,\n",
              " 186,\n",
              " 187,\n",
              " 188,\n",
              " 189,\n",
              " 190,\n",
              " 191,\n",
              " 192,\n",
              " 193,\n",
              " 194,\n",
              " 195,\n",
              " 196,\n",
              " 197,\n",
              " 198,\n",
              " 199,\n",
              " 200,\n",
              " 201,\n",
              " 202,\n",
              " 203,\n",
              " 204,\n",
              " 205,\n",
              " 206,\n",
              " 207,\n",
              " 208,\n",
              " 209,\n",
              " 210,\n",
              " 211,\n",
              " 212,\n",
              " 213,\n",
              " 214,\n",
              " 215,\n",
              " 216,\n",
              " 217,\n",
              " 218,\n",
              " 219,\n",
              " 220,\n",
              " 221,\n",
              " 222,\n",
              " 223,\n",
              " 224,\n",
              " 225,\n",
              " 226,\n",
              " 227,\n",
              " 228,\n",
              " 229,\n",
              " 230,\n",
              " 231,\n",
              " 232,\n",
              " 233,\n",
              " 234,\n",
              " 235,\n",
              " 236,\n",
              " 237,\n",
              " 238,\n",
              " 239,\n",
              " 240,\n",
              " 241,\n",
              " 242,\n",
              " 243,\n",
              " 244,\n",
              " 245,\n",
              " 246,\n",
              " 247,\n",
              " 248,\n",
              " 249,\n",
              " 250,\n",
              " 251,\n",
              " 252,\n",
              " 253,\n",
              " 254,\n",
              " 255,\n",
              " 256,\n",
              " 257,\n",
              " 258,\n",
              " 259,\n",
              " 260,\n",
              " 261,\n",
              " 262,\n",
              " 263,\n",
              " 264,\n",
              " 265,\n",
              " 266,\n",
              " 267,\n",
              " 268,\n",
              " 269,\n",
              " 270,\n",
              " 271,\n",
              " 272,\n",
              " 273,\n",
              " 274,\n",
              " 275,\n",
              " 276,\n",
              " 277,\n",
              " 278,\n",
              " 279,\n",
              " 280,\n",
              " 281,\n",
              " 282,\n",
              " 283,\n",
              " 284,\n",
              " 285,\n",
              " 286,\n",
              " 287,\n",
              " 288,\n",
              " 289,\n",
              " 290,\n",
              " 291,\n",
              " 292,\n",
              " 293,\n",
              " 294,\n",
              " 295,\n",
              " 296,\n",
              " 297,\n",
              " 298,\n",
              " 299,\n",
              " 300,\n",
              " 301,\n",
              " 302,\n",
              " 303,\n",
              " 304,\n",
              " 305,\n",
              " 306,\n",
              " 307,\n",
              " 308,\n",
              " 309,\n",
              " 310,\n",
              " 311,\n",
              " 312,\n",
              " 313,\n",
              " 314,\n",
              " 315,\n",
              " 316,\n",
              " 317,\n",
              " 318,\n",
              " 319,\n",
              " 320,\n",
              " 321,\n",
              " 322,\n",
              " 323,\n",
              " 324,\n",
              " 325,\n",
              " 326,\n",
              " 327,\n",
              " 328,\n",
              " 329,\n",
              " 330,\n",
              " 331,\n",
              " 332,\n",
              " 333,\n",
              " 334,\n",
              " 335,\n",
              " 336,\n",
              " 337,\n",
              " 338,\n",
              " 339,\n",
              " 340,\n",
              " 341,\n",
              " 342,\n",
              " 343,\n",
              " 344,\n",
              " 345,\n",
              " 346,\n",
              " 347,\n",
              " 348,\n",
              " 349,\n",
              " 350,\n",
              " 351,\n",
              " 352,\n",
              " 353,\n",
              " 354,\n",
              " 355,\n",
              " 356,\n",
              " 357,\n",
              " 358,\n",
              " 359,\n",
              " 360,\n",
              " 361,\n",
              " 362,\n",
              " 363,\n",
              " 364,\n",
              " 365,\n",
              " 366,\n",
              " 367,\n",
              " 368,\n",
              " 369,\n",
              " 370,\n",
              " 371,\n",
              " 372,\n",
              " 373,\n",
              " 374,\n",
              " 375,\n",
              " 376,\n",
              " 377,\n",
              " 378,\n",
              " 379,\n",
              " 380,\n",
              " 381,\n",
              " 382,\n",
              " 383,\n",
              " 384,\n",
              " 385,\n",
              " 386,\n",
              " 387,\n",
              " 388,\n",
              " 389,\n",
              " 390,\n",
              " 391,\n",
              " 392,\n",
              " 393,\n",
              " 394,\n",
              " 395,\n",
              " 396,\n",
              " 397,\n",
              " 398,\n",
              " 399,\n",
              " 400,\n",
              " 401,\n",
              " 402,\n",
              " 403,\n",
              " 404,\n",
              " 405,\n",
              " 406,\n",
              " 407,\n",
              " 408,\n",
              " 409,\n",
              " 410,\n",
              " 411,\n",
              " 412,\n",
              " 413,\n",
              " 414,\n",
              " 415,\n",
              " 416,\n",
              " 417,\n",
              " 418,\n",
              " 419,\n",
              " 420,\n",
              " 421,\n",
              " 422,\n",
              " 423,\n",
              " 424,\n",
              " 425,\n",
              " 426,\n",
              " 427,\n",
              " 428,\n",
              " 429,\n",
              " 430,\n",
              " 431,\n",
              " 432,\n",
              " 433,\n",
              " 434,\n",
              " 435,\n",
              " 436,\n",
              " 437,\n",
              " 438,\n",
              " 439,\n",
              " 440,\n",
              " 441,\n",
              " 442,\n",
              " 443,\n",
              " 444,\n",
              " 445,\n",
              " 446,\n",
              " 447,\n",
              " 448,\n",
              " 449,\n",
              " 450,\n",
              " 451,\n",
              " 452,\n",
              " 453,\n",
              " 454,\n",
              " 455,\n",
              " 456,\n",
              " 457,\n",
              " 458,\n",
              " 459,\n",
              " 460,\n",
              " 461,\n",
              " 462,\n",
              " 463,\n",
              " 464,\n",
              " 465,\n",
              " 466,\n",
              " 467,\n",
              " 468,\n",
              " 469,\n",
              " 470,\n",
              " 471,\n",
              " 472,\n",
              " 473,\n",
              " 474,\n",
              " 475,\n",
              " 476,\n",
              " 477,\n",
              " 478,\n",
              " 479,\n",
              " 480,\n",
              " 481,\n",
              " 482,\n",
              " 483,\n",
              " 484,\n",
              " 485,\n",
              " 486,\n",
              " 487,\n",
              " 488,\n",
              " 489,\n",
              " 490,\n",
              " 491,\n",
              " 492,\n",
              " 493,\n",
              " 494,\n",
              " 495,\n",
              " 496,\n",
              " 497,\n",
              " 498,\n",
              " 499,\n",
              " 500,\n",
              " 501,\n",
              " 502,\n",
              " 503,\n",
              " 504,\n",
              " 505,\n",
              " 506,\n",
              " 507,\n",
              " 508,\n",
              " 509,\n",
              " 510,\n",
              " 511,\n",
              " 512,\n",
              " 513,\n",
              " 514,\n",
              " 515,\n",
              " 516,\n",
              " 517,\n",
              " 518,\n",
              " 519,\n",
              " 520,\n",
              " 521,\n",
              " 522,\n",
              " 523,\n",
              " 524,\n",
              " 525,\n",
              " 526,\n",
              " 527,\n",
              " 528,\n",
              " 529,\n",
              " 530,\n",
              " 531,\n",
              " 532,\n",
              " 533,\n",
              " 534,\n",
              " 535,\n",
              " 536,\n",
              " 537,\n",
              " 538,\n",
              " 539,\n",
              " 540,\n",
              " 541,\n",
              " 542,\n",
              " 543,\n",
              " 544,\n",
              " 545,\n",
              " 546,\n",
              " 547,\n",
              " 548,\n",
              " 549,\n",
              " 550,\n",
              " 551,\n",
              " 552,\n",
              " 553,\n",
              " 554,\n",
              " 555,\n",
              " 556,\n",
              " 557,\n",
              " 558,\n",
              " 559,\n",
              " 560,\n",
              " 561,\n",
              " 562,\n",
              " 563,\n",
              " 564,\n",
              " 565,\n",
              " 566,\n",
              " 567,\n",
              " 568,\n",
              " 569,\n",
              " 570,\n",
              " 571,\n",
              " 572,\n",
              " 573,\n",
              " 574,\n",
              " 575,\n",
              " 576,\n",
              " 577,\n",
              " 578,\n",
              " 579,\n",
              " 580,\n",
              " 581,\n",
              " 582,\n",
              " 583,\n",
              " 584,\n",
              " 585,\n",
              " 586,\n",
              " 587,\n",
              " 588,\n",
              " 589,\n",
              " 590,\n",
              " 591,\n",
              " 592,\n",
              " 593,\n",
              " 594,\n",
              " 595,\n",
              " 596,\n",
              " 597,\n",
              " 598,\n",
              " 599,\n",
              " 600,\n",
              " 601,\n",
              " 602,\n",
              " 603,\n",
              " 604,\n",
              " 605,\n",
              " 606,\n",
              " 607,\n",
              " 608,\n",
              " 609,\n",
              " 610,\n",
              " 611,\n",
              " 612,\n",
              " 613,\n",
              " 614,\n",
              " 615,\n",
              " 616,\n",
              " 617,\n",
              " 618,\n",
              " 619,\n",
              " 620,\n",
              " 621,\n",
              " 622,\n",
              " 623,\n",
              " 624,\n",
              " 625,\n",
              " 626,\n",
              " 627,\n",
              " 628,\n",
              " 629,\n",
              " 630,\n",
              " 631,\n",
              " 632,\n",
              " 633,\n",
              " 634,\n",
              " 635,\n",
              " 636,\n",
              " 637,\n",
              " 638,\n",
              " 639,\n",
              " 640,\n",
              " 641,\n",
              " 642,\n",
              " 643,\n",
              " 644,\n",
              " 645,\n",
              " 646,\n",
              " 647,\n",
              " 648,\n",
              " 649,\n",
              " 650,\n",
              " 651,\n",
              " 652,\n",
              " 653,\n",
              " 654,\n",
              " 655,\n",
              " 656,\n",
              " 657,\n",
              " 658,\n",
              " 659,\n",
              " 660,\n",
              " 661,\n",
              " 662,\n",
              " 663,\n",
              " 664,\n",
              " 665,\n",
              " 666,\n",
              " 667,\n",
              " 668,\n",
              " 669,\n",
              " 670,\n",
              " 671,\n",
              " 672,\n",
              " 673,\n",
              " 674,\n",
              " 675,\n",
              " 676,\n",
              " 677,\n",
              " 678,\n",
              " 679,\n",
              " 680,\n",
              " 681,\n",
              " 682,\n",
              " 683,\n",
              " 684,\n",
              " 685,\n",
              " 686,\n",
              " 687,\n",
              " 688,\n",
              " 689,\n",
              " 690,\n",
              " 691,\n",
              " 692,\n",
              " 693,\n",
              " 694,\n",
              " 695,\n",
              " 696,\n",
              " 697,\n",
              " 698,\n",
              " 699,\n",
              " 700,\n",
              " 701,\n",
              " 702,\n",
              " 703,\n",
              " 704,\n",
              " 705,\n",
              " 706,\n",
              " 707,\n",
              " 708,\n",
              " 709,\n",
              " 710,\n",
              " 711,\n",
              " 712,\n",
              " 713,\n",
              " 714,\n",
              " 715,\n",
              " 716,\n",
              " 717,\n",
              " 718,\n",
              " 719,\n",
              " 720,\n",
              " 721,\n",
              " 722,\n",
              " 723,\n",
              " 724,\n",
              " 725,\n",
              " 726,\n",
              " 727,\n",
              " 728,\n",
              " 729,\n",
              " 730,\n",
              " 731,\n",
              " 732,\n",
              " 733,\n",
              " 734,\n",
              " 735,\n",
              " 736,\n",
              " 737,\n",
              " 738,\n",
              " 739,\n",
              " 740,\n",
              " 741,\n",
              " 742,\n",
              " 743,\n",
              " 744,\n",
              " 745,\n",
              " 746,\n",
              " 747,\n",
              " 748,\n",
              " 749,\n",
              " 750,\n",
              " 751,\n",
              " 752,\n",
              " 753,\n",
              " 754,\n",
              " 755,\n",
              " 756,\n",
              " 757,\n",
              " 758,\n",
              " 759,\n",
              " 760,\n",
              " 761,\n",
              " 762,\n",
              " 763,\n",
              " 764,\n",
              " 765,\n",
              " 766,\n",
              " 767,\n",
              " 768,\n",
              " 769,\n",
              " 770,\n",
              " 771,\n",
              " 772,\n",
              " 773,\n",
              " 774,\n",
              " 775,\n",
              " 776,\n",
              " 777,\n",
              " 778,\n",
              " 779,\n",
              " 780,\n",
              " 781,\n",
              " 782,\n",
              " 783,\n",
              " 784,\n",
              " 785,\n",
              " 786,\n",
              " 787,\n",
              " 788,\n",
              " 789,\n",
              " 790,\n",
              " 791,\n",
              " 792,\n",
              " 793,\n",
              " 794,\n",
              " 795,\n",
              " 796,\n",
              " 797,\n",
              " 798,\n",
              " 799,\n",
              " 800,\n",
              " 801,\n",
              " 802,\n",
              " 803,\n",
              " 804,\n",
              " 805,\n",
              " 806,\n",
              " 807,\n",
              " 808,\n",
              " 809,\n",
              " 810,\n",
              " 811,\n",
              " 812,\n",
              " 813,\n",
              " 814,\n",
              " 815,\n",
              " 816,\n",
              " 817,\n",
              " 818,\n",
              " 819,\n",
              " 820,\n",
              " 821,\n",
              " 822,\n",
              " 823,\n",
              " 824,\n",
              " 825,\n",
              " 826,\n",
              " 827,\n",
              " 828,\n",
              " 829,\n",
              " 830,\n",
              " 831,\n",
              " 832,\n",
              " 833,\n",
              " 834,\n",
              " 835,\n",
              " 836,\n",
              " 837,\n",
              " 838,\n",
              " 839,\n",
              " 840,\n",
              " 841,\n",
              " 842,\n",
              " 843,\n",
              " 844,\n",
              " 845,\n",
              " 846,\n",
              " 847,\n",
              " 848,\n",
              " 849,\n",
              " 850,\n",
              " 851,\n",
              " 852,\n",
              " 853,\n",
              " 854,\n",
              " 855,\n",
              " 856,\n",
              " 857,\n",
              " 858,\n",
              " 859,\n",
              " 860,\n",
              " 861,\n",
              " 862,\n",
              " 863,\n",
              " 864,\n",
              " 865,\n",
              " 866,\n",
              " 867,\n",
              " 868,\n",
              " 869,\n",
              " 870,\n",
              " 871,\n",
              " 872,\n",
              " 873,\n",
              " 874,\n",
              " 875,\n",
              " 876,\n",
              " 877,\n",
              " 878,\n",
              " 879,\n",
              " 880,\n",
              " 881,\n",
              " 882,\n",
              " 883,\n",
              " 884,\n",
              " 885,\n",
              " 886,\n",
              " 887,\n",
              " 888,\n",
              " 889,\n",
              " 890,\n",
              " 891,\n",
              " 892,\n",
              " 893,\n",
              " 894,\n",
              " 895,\n",
              " 896,\n",
              " 897,\n",
              " 898,\n",
              " 899,\n",
              " 900,\n",
              " 901,\n",
              " 902,\n",
              " 903,\n",
              " 904,\n",
              " 905,\n",
              " 906,\n",
              " 907,\n",
              " 908,\n",
              " 909,\n",
              " 910,\n",
              " 911,\n",
              " 912,\n",
              " 913,\n",
              " 914,\n",
              " 915,\n",
              " 916,\n",
              " 917,\n",
              " 918,\n",
              " 919,\n",
              " 920,\n",
              " 921,\n",
              " 922,\n",
              " 923,\n",
              " 924,\n",
              " 925,\n",
              " 926,\n",
              " 927,\n",
              " 928,\n",
              " 929,\n",
              " 930,\n",
              " 931,\n",
              " 932,\n",
              " 933,\n",
              " 934,\n",
              " 935,\n",
              " 936,\n",
              " 937,\n",
              " 938,\n",
              " 939,\n",
              " 940,\n",
              " 941,\n",
              " 942,\n",
              " 943,\n",
              " 944,\n",
              " 945,\n",
              " 946,\n",
              " 947,\n",
              " 948,\n",
              " 949,\n",
              " 950,\n",
              " 951,\n",
              " 952,\n",
              " 953,\n",
              " 954,\n",
              " 955,\n",
              " 956,\n",
              " 957,\n",
              " 958,\n",
              " 959,\n",
              " 960,\n",
              " 961,\n",
              " 962,\n",
              " 963,\n",
              " 964,\n",
              " 965,\n",
              " 966,\n",
              " 967,\n",
              " 968,\n",
              " 969,\n",
              " 970,\n",
              " 971,\n",
              " 972,\n",
              " 973,\n",
              " 974,\n",
              " 975,\n",
              " 976,\n",
              " 977,\n",
              " 978,\n",
              " 979,\n",
              " 980,\n",
              " 981,\n",
              " 982,\n",
              " 983,\n",
              " 984,\n",
              " 985,\n",
              " 986,\n",
              " 987,\n",
              " 988,\n",
              " 989,\n",
              " 990,\n",
              " 991,\n",
              " 992,\n",
              " 993,\n",
              " 994,\n",
              " 995,\n",
              " 996,\n",
              " 997,\n",
              " 998,\n",
              " 999,\n",
              " 1000,\n",
              " ...]"
            ]
          },
          "metadata": {},
          "execution_count": 15
        }
      ]
    },
    {
      "cell_type": "markdown",
      "source": [
        "## 2.2 Basic NoSQL Queries\n"
      ],
      "metadata": {
        "id": "uYkJPPEg1ODp"
      }
    },
    {
      "cell_type": "code",
      "source": [
        "\n",
        "# عدد كل المستندات\n",
        "total_records = len(tinydb)\n",
        "print(f\" Total Records: {total_records}\\n\")\n",
        "\n",
        "# طباعة عينة من السجلات\n",
        "sample_record = tinydb.all()[0]\n",
        "print(\" Sample Record:\")\n",
        "for key, value in sample_record.items():\n",
        "    print(f\"  {key}: {value}\")\n",
        "print()\n",
        "\n",
        "# البحث عن المرضى بحالة حرجة\n",
        "critical_patients = tinydb.search(Query().Medical_Condition == 'Critical')\n",
        "print(f\" Critical Patients Count: {len(critical_patients)}\")\n",
        "if critical_patients:\n",
        "    print(\"Details of Critical Patients:\")\n",
        "    for i, patient in enumerate(critical_patients, 1):\n",
        "        print(f\" Patient {i}:\")\n",
        "        for key, value in patient.items():\n",
        "            print(f\"   {key}: {value}\")\n",
        "        print()\n",
        "else:\n",
        "    print(\"No critical patients found.\")\n"
      ],
      "metadata": {
        "colab": {
          "base_uri": "https://localhost:8080/"
        },
        "id": "deUpTbpN09Zz",
        "outputId": "46683248-cd51-4251-9bb2-b2060af43949"
      },
      "execution_count": null,
      "outputs": [
        {
          "output_type": "stream",
          "name": "stdout",
          "text": [
            " Total Records: 55500\n",
            "\n",
            " Sample Record:\n",
            "  Name: Bobby JacksOn\n",
            "  Age: 30\n",
            "  Gender: Male\n",
            "  Blood_Type: B-\n",
            "  Medical_Condition: Cancer\n",
            "  Date_of_Admission: 2024-01-31\n",
            "  Doctor: Matthew Smith\n",
            "  Hospital: Sons and Miller\n",
            "  Insurance_Provider: Blue Cross\n",
            "  Billing_Amount: 18856.281305978155\n",
            "  Room_Number: 328\n",
            "  Admission_Type: Urgent\n",
            "  Discharge_Date: 2024-02-02\n",
            "  Medication: Paracetamol\n",
            "  Test_Results: Normal\n",
            "\n",
            " Critical Patients Count: 0\n",
            "No critical patients found.\n"
          ]
        }
      ]
    },
    {
      "cell_type": "markdown",
      "source": [
        "# **PHASE 3: Stream Processing with PySpark**\n"
      ],
      "metadata": {
        "id": "K4LGY0OA1cgR"
      }
    },
    {
      "cell_type": "code",
      "source": [
        "from pyspark.sql import SparkSession\n",
        "from pyspark.sql.functions import *"
      ],
      "metadata": {
        "id": "vB0aRE1K1juO"
      },
      "execution_count": null,
      "outputs": []
    },
    {
      "cell_type": "markdown",
      "source": [
        "## 3.1 Simulating Stream Data\n"
      ],
      "metadata": {
        "id": "n2Bxmewr1m_f"
      }
    },
    {
      "cell_type": "code",
      "source": [
        "spark = SparkSession.builder.appName('HealthcareStream').getOrCreate()\n",
        "stream_df = spark.createDataFrame(healthcare_df)"
      ],
      "metadata": {
        "id": "wDngyzM01qdS"
      },
      "execution_count": null,
      "outputs": []
    },
    {
      "cell_type": "markdown",
      "source": [
        "## 3.2 PySpark Processing\n"
      ],
      "metadata": {
        "id": "uCuyXCn_1rVk"
      }
    },
    {
      "cell_type": "code",
      "source": [
        "from pyspark.sql.types import FloatType\n",
        "\n",
        "# Convert Billing_Amount to float before sorting\n",
        "stream_df = stream_df.withColumn(\"Billing_Amount\", stream_df[\"Billing_Amount\"].cast(FloatType()))\n",
        "\n",
        "# Get the top 20 most expensive cases\n",
        "expensive_cases_df = stream_df.orderBy(stream_df['Billing_Amount'].desc()).limit(20)\n",
        "expensive_cases_df.show()"
      ],
      "metadata": {
        "colab": {
          "base_uri": "https://localhost:8080/"
        },
        "id": "hb3wRU1d1tVj",
        "outputId": "e9ed9fe6-ae7f-4582-9d57-9110e187a426"
      },
      "execution_count": null,
      "outputs": [
        {
          "output_type": "stream",
          "name": "stdout",
          "text": [
            "+-----------------+---+------+----------+-----------------+-----------------+-----------------+--------------------+------------------+--------------+-----------+--------------+--------------+-----------+------------+\n",
            "|             Name|Age|Gender|Blood_Type|Medical_Condition|Date_of_Admission|           Doctor|            Hospital|Insurance_Provider|Billing_Amount|Room_Number|Admission_Type|Discharge_Date| Medication|Test_Results|\n",
            "+-----------------+---+------+----------+-----------------+-----------------+-----------------+--------------------+------------------+--------------+-----------+--------------+--------------+-----------+------------+\n",
            "|    tOdd CARrILlO| 51|Female|        A+|     Hypertension|       2023-09-08| Kathleen Griffin|       Griffin Group|        Blue Cross|     52764.277|        209|      Elective|    2023-10-04|  Ibuprofen|      Normal|\n",
            "|      kARen klInE| 79|Female|       AB+|           Cancer|       2021-06-19|Dr. Joseph Gordon|    Hernandez-Morton|  UnitedHealthcare|      52373.03|        181|        Urgent|    2021-07-03| Penicillin|Inconclusive|\n",
            "|      kARen klInE| 74|Female|       AB+|           Cancer|       2021-06-19|Dr. Joseph Gordon|    Hernandez-Morton|  UnitedHealthcare|      52373.03|        181|        Urgent|    2021-07-03| Penicillin|Inconclusive|\n",
            "|   DAVId SanDOvaL| 22|  Male|       AB-|     Hypertension|       2019-11-02|     Taylor Novak|     Sons and Bailey|        Blue Cross|     52271.664|        228|     Emergency|    2019-11-11|  Ibuprofen|      Normal|\n",
            "| kathRYN GoNzales| 18|Female|        O+|         Diabetes|       2020-08-11|    Kristin Clark|          Miller Ltd|             Aetna|      52211.85|        383|        Urgent|    2020-08-12|Paracetamol|Inconclusive|\n",
            "|   BRETT mARshAll| 42|Female|        B+|           Asthma|       2021-11-10|   Robert Hartman|          PLC Garner|             Aetna|     52181.836|        140|     Emergency|    2021-11-17| Penicillin|Inconclusive|\n",
            "|      LAuRie hOod| 43|Female|        A-|        Arthritis|       2021-06-27|      Brian Riley|       Walker-Garcia|             Cigna|     52170.035|        306|        Urgent|    2021-06-29| Penicillin|      Normal|\n",
            "|      LAuRie hOod| 42|Female|        A-|        Arthritis|       2021-06-27|      Brian Riley|       Walker-Garcia|             Cigna|     52170.035|        306|        Urgent|    2021-06-29| Penicillin|      Normal|\n",
            "|     JUstIn CLark| 53|Female|       AB+|           Cancer|       2019-05-30|     Andrea Jones|        Ruiz-Anthony|  UnitedHealthcare|      52154.24|        399|        Urgent|    2019-06-22|    Aspirin|      Normal|\n",
            "|     sCotT pOWElL| 38|Female|        B+|           Cancer|       2019-05-20| Stephen Hood PhD|     George-Gonzalez|             Cigna|     52102.242|        155|     Emergency|    2019-05-29|  Ibuprofen|      Normal|\n",
            "|CAmEroN HeRnAndez| 80|  Male|        B-|           Cancer|       2023-10-15|   Joshua Rodgers|        Rocha-Carter|          Medicare|     52092.668|        443|     Emergency|    2023-10-17|    Aspirin|    Abnormal|\n",
            "|        TOm smItH| 21|  Male|        O-|          Obesity|       2022-09-02|    Linda Andrade|Briggs Walker Mar...|             Cigna|     52024.727|        331|      Elective|    2022-09-28| Penicillin|      Normal|\n",
            "|  jasmine OSBoRNE| 54|Female|        A+|         Diabetes|       2023-08-14|     Kristen Hill|     Sons Little and|          Medicare|     51986.086|        291|     Emergency|    2023-09-04|    Aspirin|      Normal|\n",
            "|    pAmElA NoRmAn| 20|  Male|        B-|        Arthritis|       2023-04-22|    Amanda Newman|and Small Stephen...|        Blue Cross|      51975.97|        364|        Urgent|    2023-05-19|    Aspirin|      Normal|\n",
            "|    pAmElA NoRmAn| 18|  Male|        B-|        Arthritis|       2023-04-22|    Amanda Newman|and Small Stephen...|        Blue Cross|      51975.97|        364|        Urgent|    2023-05-19|    Aspirin|      Normal|\n",
            "|     Stacy MCcaLl| 19|Female|        A+|     Hypertension|       2023-09-21|     Jack Cochran|      Group Peterson|          Medicare|      51958.13|        312|     Emergency|    2023-10-13|Paracetamol|Inconclusive|\n",
            "|     AmANDa bakER| 83|Female|        B-|           Cancer|       2023-12-08|    Brandy Brooks|           Davis PLC|             Aetna|     51899.016|        125|      Elective|    2023-12-29|    Aspirin|      Normal|\n",
            "|       fred eAtOn| 82|  Male|        B-|         Diabetes|       2019-07-13| Debbie Donaldson|      Clark-Espinoza|             Aetna|     51848.203|        133|        Urgent|    2019-07-21|Paracetamol|Inconclusive|\n",
            "|      jiLL DUDLey| 78|  Male|       AB-|           Cancer|       2024-02-29|  Joseph Chambers|         Aguilar PLC|             Aetna|      51731.66|        210|      Elective|    2024-03-20|    Aspirin|      Normal|\n",
            "|    wilLiAm brOwN| 48|Female|        A+|     Hypertension|       2019-05-14|     Charles Diaz|Pierce and Miller...|             Cigna|      51722.12|        282|      Elective|    2019-05-21|    Lipitor|Inconclusive|\n",
            "+-----------------+---+------+----------+-----------------+-----------------+-----------------+--------------------+------------------+--------------+-----------+--------------+--------------+-----------+------------+\n",
            "\n"
          ]
        }
      ]
    },
    {
      "cell_type": "markdown",
      "source": [
        "## 3.3 Save Processed Data\n"
      ],
      "metadata": {
        "id": "pXYoolF61u84"
      }
    },
    {
      "cell_type": "code",
      "source": [
        "expensive_cases_df.write.mode('overwrite').csv('processed_expensive_patients')\n",
        "spark.stop()\n",
        "\n",
        "print(\"Stream processing completed and saved.\")"
      ],
      "metadata": {
        "colab": {
          "base_uri": "https://localhost:8080/"
        },
        "id": "gqxbrOEC1yQw",
        "outputId": "aaea747a-70c2-403a-c3c3-25116d2e9b22"
      },
      "execution_count": null,
      "outputs": [
        {
          "output_type": "stream",
          "name": "stdout",
          "text": [
            "Stream processing completed and saved.\n"
          ]
        }
      ]
    },
    {
      "cell_type": "markdown",
      "source": [
        "Close database connections\n"
      ],
      "metadata": {
        "id": "uuctNyGz1zbd"
      }
    },
    {
      "cell_type": "code",
      "source": [
        "conn.close()\n",
        "tinydb.close()"
      ],
      "metadata": {
        "id": "BpnmOqJf12jN"
      },
      "execution_count": null,
      "outputs": []
    }
  ]
}